{
 "cells": [
  {
   "cell_type": "markdown",
   "id": "39202bb6",
   "metadata": {},
   "source": [
    "## python reguler expession (patern search)\n",
    "\n",
    "\n",
    "- without regex"
   ]
  },
  {
   "cell_type": "code",
   "execution_count": 4,
   "id": "a5800658",
   "metadata": {},
   "outputs": [
    {
     "data": {
      "text/plain": [
       "'Atoms of radioactive elements can split. According to Albert Einstein, mass and energy are interchangeable under certain circumstances. When atoms split, the process is called nuclear fission. In this case, a small amount of mass is converted into energy. Thus the energy released cannot do much damage. However, several subatomic particles called neutrons are also emitted during this process. Each neutron will hit a radioactive element releasing more neutrons in the process. This causes a chain reaction and creates a large amount of energy. This energy is converted into heat which expands uncontrollably causing an explosion. Hence, atoms do not literally explode. They generate energy that can cause explosions.'"
      ]
     },
     "execution_count": 4,
     "metadata": {},
     "output_type": "execute_result"
    }
   ],
   "source": [
    "paragraph=\"Atoms of radioactive elements can split. According to Albert Einstein, mass and energy are interchangeable under certain circumstances. When atoms split, the process is called nuclear fission. In this case, a small amount of mass is converted into energy. Thus the energy released cannot do much damage. However, several subatomic particles called neutrons are also emitted during this process. Each neutron will hit a radioactive element releasing more neutrons in the process. This causes a chain reaction and creates a large amount of energy. This energy is converted into heat which expands uncontrollably causing an explosion. Hence, atoms do not literally explode. They generate energy that can cause explosions.\"\n",
    "\n",
    "paragraph"
   ]
  },
  {
   "cell_type": "code",
   "execution_count": 22,
   "id": "dcb1e71d",
   "metadata": {},
   "outputs": [
    {
     "name": "stdout",
     "output_type": "stream",
     "text": [
      "split=> True space=> False hi           salitha   \n"
     ]
    }
   ],
   "source": [
    "wordavb1='split' in paragraph# without regex\n",
    "wordavb2='space' in paragraph\n",
    "\n",
    "print(\"split=>\",wordavb1,\"space=>\",wordavb2,f'{\"hi\":{12}} {\"salitha\":{10}}')# use width using previous knowlage\n"
   ]
  },
  {
   "cell_type": "markdown",
   "id": "67f84984",
   "metadata": {},
   "source": [
    "# usage of regex"
   ]
  },
  {
   "cell_type": "code",
   "execution_count": 23,
   "id": "ab1899fb",
   "metadata": {},
   "outputs": [],
   "source": [
    "import re as regex\n"
   ]
  },
  {
   "cell_type": "code",
   "execution_count": 28,
   "id": "8812a818",
   "metadata": {},
   "outputs": [],
   "source": [
    "paragraph=\"Atoms of radioactive elements can split. According to Albert Einstein, mass and energy are interchangeable under certain circumstances. When atoms split, the process is called nuclear fission. In this case, a small amount of mass is converted into energy. Thus the energy released cannot do much damage. However, several subatomic particles called neutrons are also emitted during this process. Each neutron will hit a radioactive element releasing more neutrons in the process. This causes a chain reaction and creates a large amount of energy. This energy is converted into heat which expands uncontrollably causing an explosion. Hence, atoms do not literally explode. They generate energy that can cause explosions.\""
   ]
  },
  {
   "cell_type": "code",
   "execution_count": 50,
   "id": "6f6add8c",
   "metadata": {},
   "outputs": [],
   "source": [
    "linePattern='Albert Einstein'\n",
    "reg_pat_ser=regex.search(linePattern,paragraph) # serch the particuler word or part in the paragraph"
   ]
  },
  {
   "cell_type": "code",
   "execution_count": 52,
   "id": "960ecc46",
   "metadata": {},
   "outputs": [
    {
     "data": {
      "text/plain": [
       "(54, 69)"
      ]
     },
     "execution_count": 52,
     "metadata": {},
     "output_type": "execute_result"
    }
   ],
   "source": [
    "reg_pat_ser.span()# to print only the regex start and stop places"
   ]
  },
  {
   "cell_type": "code",
   "execution_count": 53,
   "id": "58bed4c3",
   "metadata": {},
   "outputs": [
    {
     "data": {
      "text/plain": [
       "54"
      ]
     },
     "execution_count": 53,
     "metadata": {},
     "output_type": "execute_result"
    }
   ],
   "source": [
    "reg_pat_ser.start()"
   ]
  },
  {
   "cell_type": "code",
   "execution_count": 54,
   "id": "1386c9ac",
   "metadata": {},
   "outputs": [
    {
     "data": {
      "text/plain": [
       "69"
      ]
     },
     "execution_count": 54,
     "metadata": {},
     "output_type": "execute_result"
    }
   ],
   "source": [
    "reg_pat_ser.end()"
   ]
  },
  {
   "cell_type": "markdown",
   "id": "3856c55b",
   "metadata": {},
   "source": [
    "# example 2 : find places , every pattern exists\n"
   ]
  },
  {
   "cell_type": "code",
   "execution_count": 72,
   "id": "4e717474",
   "metadata": {},
   "outputs": [],
   "source": [
    "doc1=\"Electric cars will replace gasoline cars in future cars\"\n"
   ]
  },
  {
   "cell_type": "code",
   "execution_count": 73,
   "id": "eb5a9699",
   "metadata": {},
   "outputs": [
    {
     "data": {
      "text/plain": [
       "(9, 13)"
      ]
     },
     "execution_count": 73,
     "metadata": {},
     "output_type": "execute_result"
    }
   ],
   "source": [
    "matchingword=regex.search(\"cars\",doc1)\n",
    "matchingword.span()"
   ]
  },
  {
   "cell_type": "code",
   "execution_count": 74,
   "id": "81625bd2",
   "metadata": {},
   "outputs": [
    {
     "data": {
      "text/plain": [
       "['cars', 'cars', 'cars']"
      ]
     },
     "execution_count": 74,
     "metadata": {},
     "output_type": "execute_result"
    }
   ],
   "source": [
    "machingwords=regex.findall(\"cars\",doc1)\n",
    "machingwords"
   ]
  },
  {
   "cell_type": "code",
   "execution_count": 75,
   "id": "022cf0e2",
   "metadata": {},
   "outputs": [
    {
     "data": {
      "text/plain": [
       "3"
      ]
     },
     "execution_count": 75,
     "metadata": {},
     "output_type": "execute_result"
    }
   ],
   "source": [
    "len(machingwords)"
   ]
  },
  {
   "cell_type": "code",
   "execution_count": 79,
   "id": "e26c5264",
   "metadata": {},
   "outputs": [
    {
     "name": "stdout",
     "output_type": "stream",
     "text": [
      "(9, 13)\n",
      "(36, 40)\n",
      "(51, 55)\n"
     ]
    }
   ],
   "source": [
    "for m in regex.finditer(\"cars\",doc1):\n",
    "    print(m.span())\n",
    "    \n",
    "    "
   ]
  },
  {
   "cell_type": "code",
   "execution_count": 81,
   "id": "cbd65e2f",
   "metadata": {},
   "outputs": [
    {
     "data": {
      "text/plain": [
       "'cars'"
      ]
     },
     "execution_count": 81,
     "metadata": {},
     "output_type": "execute_result"
    }
   ],
   "source": [
    "m.group()"
   ]
  },
  {
   "cell_type": "markdown",
   "id": "aef09907",
   "metadata": {},
   "source": [
    "# matching digit paterns\n",
    "- r'' :match regex\n",
    "\n",
    "    - \\d : digits\n",
    "        - \\d{number of digits}\n",
    "    - | : or \n",
    "    "
   ]
  },
  {
   "cell_type": "code",
   "execution_count": 95,
   "id": "3803a008",
   "metadata": {},
   "outputs": [
    {
     "data": {
      "text/plain": [
       "(10, 22)"
      ]
     },
     "execution_count": 95,
     "metadata": {},
     "output_type": "execute_result"
    }
   ],
   "source": [
    "so_sec_num=\"secNum :  222-123-1345\"\n",
    "matchingword = regex.search(r'\\d\\d\\d-\\d\\d\\d-\\d\\d\\d\\d',so_sec_num)\n",
    "matchingword.span()"
   ]
  },
  {
   "cell_type": "code",
   "execution_count": 97,
   "id": "830748df",
   "metadata": {},
   "outputs": [
    {
     "name": "stdout",
     "output_type": "stream",
     "text": [
      "25\n"
     ]
    }
   ],
   "source": [
    "print(so_sec_num[10]+so_sec_num[21])"
   ]
  },
  {
   "cell_type": "code",
   "execution_count": 98,
   "id": "a92cc174",
   "metadata": {},
   "outputs": [
    {
     "data": {
      "text/plain": [
       "'222-123-1345'"
      ]
     },
     "execution_count": 98,
     "metadata": {},
     "output_type": "execute_result"
    }
   ],
   "source": [
    "matchingword.group()"
   ]
  },
  {
   "cell_type": "markdown",
   "id": "cef70cc3",
   "metadata": {},
   "source": [
    "- optimise using quantify methods"
   ]
  },
  {
   "cell_type": "code",
   "execution_count": 110,
   "id": "209337d7",
   "metadata": {},
   "outputs": [
    {
     "name": "stdout",
     "output_type": "stream",
     "text": [
      "(10, 22) 222-123-1345\n"
     ]
    }
   ],
   "source": [
    "matchingword = regex.search(r'\\d{3}-\\d{3}-\\d{4}',so_sec_num)\n",
    "place= matchingword.span()\n",
    "contentmatch=matchingword.group()\n",
    "print(place,contentmatch)"
   ]
  },
  {
   "cell_type": "code",
   "execution_count": 113,
   "id": "1f8085c3",
   "metadata": {},
   "outputs": [
    {
     "data": {
      "text/plain": [
       "(10, 22)"
      ]
     },
     "execution_count": 113,
     "metadata": {},
     "output_type": "execute_result"
    }
   ],
   "source": [
    "matchingword = regex.search(r'\\d{3}-\\d{3}-\\d{4}',so_sec_num).span()# can use this way also\n",
    "matchingword"
   ]
  },
  {
   "cell_type": "code",
   "execution_count": 115,
   "id": "ff698de0",
   "metadata": {},
   "outputs": [
    {
     "data": {
      "text/plain": [
       "<re.Match object; span=(0, 12), match='Aralaganwila'>"
      ]
     },
     "execution_count": 115,
     "metadata": {},
     "output_type": "execute_result"
    }
   ],
   "source": [
    "regex.search(r'Aralaganwila|polonnaruwa','Aralaganwila is an area in polinnaruwa')# do not include spaces inside th r'' without no meaning"
   ]
  },
  {
   "cell_type": "code",
   "execution_count": 124,
   "id": "5faf1e54",
   "metadata": {},
   "outputs": [
    {
     "data": {
      "text/plain": [
       "['Aralaganwila', 'polonnaruwa']"
      ]
     },
     "execution_count": 124,
     "metadata": {},
     "output_type": "execute_result"
    }
   ],
   "source": [
    "machingwords=regex.findall(r'Aralaganwila|polonnaruwa','Aralaganwila is an area in polonnaruwa')\n",
    "machingwords"
   ]
  },
  {
   "cell_type": "code",
   "execution_count": 125,
   "id": "15d23307",
   "metadata": {},
   "outputs": [
    {
     "name": "stdout",
     "output_type": "stream",
     "text": [
      "(0, 12)\n",
      "(27, 38)\n"
     ]
    }
   ],
   "source": [
    "for m in regex.finditer(r'Aralaganwila|polonnaruwa','Aralaganwila is an area in polonnaruwa'):# using above knowlage\n",
    "    print(m.span())"
   ]
  },
  {
   "cell_type": "code",
   "execution_count": null,
   "id": "bb2c753b",
   "metadata": {},
   "outputs": [],
   "source": []
  }
 ],
 "metadata": {
  "kernelspec": {
   "display_name": "Python 3 (ipykernel)",
   "language": "python",
   "name": "python3"
  },
  "language_info": {
   "codemirror_mode": {
    "name": "ipython",
    "version": 3
   },
   "file_extension": ".py",
   "mimetype": "text/x-python",
   "name": "python",
   "nbconvert_exporter": "python",
   "pygments_lexer": "ipython3",
   "version": "3.9.13"
  }
 },
 "nbformat": 4,
 "nbformat_minor": 5
}
