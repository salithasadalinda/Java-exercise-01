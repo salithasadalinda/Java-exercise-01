{
 "cells": [
  {
   "cell_type": "code",
   "execution_count": 1,
   "id": "a0be1ca9",
   "metadata": {},
   "outputs": [
    {
     "name": "stdout",
     "output_type": "stream",
     "text": [
      "NLP basics\n"
     ]
    }
   ],
   "source": [
    "print(\"NLP basics\")"
   ]
  },
  {
   "cell_type": "markdown",
   "id": "ffb9c7c9",
   "metadata": {},
   "source": [
    "nlp basics"
   ]
  },
  {
   "cell_type": "markdown",
   "id": "4c0ec354",
   "metadata": {},
   "source": [
    "## heading type\n"
   ]
  },
  {
   "cell_type": "markdown",
   "id": "81a55384",
   "metadata": {},
   "source": [
    "bulletin\n",
    "- bulletin1\n",
    "- bulletin2\n",
    "    - subbullet1\n",
    "        - subbulet3"
   ]
  },
  {
   "cell_type": "code",
   "execution_count": 3,
   "id": "de50b82e",
   "metadata": {},
   "outputs": [
    {
     "name": "stdout",
     "output_type": "stream",
     "text": [
      "5 python str 100.0\n"
     ]
    }
   ],
   "source": [
    "a=5\n",
    "b=\"python str\"\n",
    "c=100.0\n",
    "print(a,b,c)"
   ]
  },
  {
   "cell_type": "code",
   "execution_count": 7,
   "id": "0153ddfb",
   "metadata": {},
   "outputs": [
    {
     "name": "stdout",
     "output_type": "stream",
     "text": [
      "pyt r\n"
     ]
    }
   ],
   "source": [
    "print(b[0:3],b[-1])"
   ]
  },
  {
   "cell_type": "code",
   "execution_count": 10,
   "id": "a3e477ab",
   "metadata": {},
   "outputs": [
    {
     "name": "stdout",
     "output_type": "stream",
     "text": [
      "jython str\n"
     ]
    }
   ],
   "source": [
    "print(\"j\"+b[1:])"
   ]
  },
  {
   "cell_type": "code",
   "execution_count": 12,
   "id": "a51ac576",
   "metadata": {},
   "outputs": [
    {
     "name": "stdout",
     "output_type": "stream",
     "text": [
      "10\n"
     ]
    }
   ],
   "source": [
    "print(len(b)) # to print the length of the given string\n"
   ]
  },
  {
   "cell_type": "code",
   "execution_count": 15,
   "id": "c319f440",
   "metadata": {},
   "outputs": [
    {
     "name": "stdout",
     "output_type": "stream",
     "text": [
      "PYTHON STR\n"
     ]
    }
   ],
   "source": [
    "print(b.upper())"
   ]
  },
  {
   "cell_type": "code",
   "execution_count": 18,
   "id": "c5687dde",
   "metadata": {},
   "outputs": [
    {
     "name": "stdout",
     "output_type": "stream",
     "text": [
      "jython str\n"
     ]
    }
   ],
   "source": [
    "strrep=b.replace(\"p\",\"j\")\n",
    "print(strrep)"
   ]
  },
  {
   "cell_type": "code",
   "execution_count": null,
   "id": "2740f281",
   "metadata": {},
   "outputs": [],
   "source": [
    "input_str=input(\"please enter your string: \")"
   ]
  },
  {
   "cell_type": "code",
   "execution_count": 46,
   "id": "ed78d9a0",
   "metadata": {},
   "outputs": [],
   "source": [
    "def answer(input_str):\n",
    "    if \"+\" in input_str:\n",
    "        nums = input_str.split(\"+\")\n",
    "        answer = float(nums[0]) + float(nums[1])\n",
    "    elif \"-\" in input_str:\n",
    "        nums = input_str.split(\"-\")\n",
    "        answer = float(nums[0]) - float(nums[1])\n",
    "    elif \"*\" in input_str:\n",
    "        nums = input_str.split(\"*\")\n",
    "        answer = float(nums[0]) * float(nums[1])\n",
    "    elif \"/\" in input_str:\n",
    "        nums = input_str.split(\"/\")\n",
    "        answer = float(nums[0]) / float(nums[1])\n",
    "    else:\n",
    "        answer = None\n",
    "    return answer\n",
    "\n",
    "#     def answer(input_str):\n",
    "#     operators = {\n",
    "#         '+': lambda x, y: x + y,\n",
    "#         '-': lambda x, y: x - y,\n",
    "#         '*': lambda x, y: x * y,\n",
    "#         '/': lambda x, y: x / y\n",
    "#     }\n",
    "#     a, op, b = input_str.split()\n",
    "#     return operators[op](float(a), float(b))\n"
   ]
  },
  {
   "cell_type": "code",
   "execution_count": 47,
   "id": "e424a309",
   "metadata": {},
   "outputs": [
    {
     "data": {
      "text/plain": [
       "12312313544.0"
      ]
     },
     "execution_count": 47,
     "metadata": {},
     "output_type": "execute_result"
    }
   ],
   "source": [
    "answer(input_str)"
   ]
  },
  {
   "cell_type": "code",
   "execution_count": 48,
   "id": "2822e3c4",
   "metadata": {
    "scrolled": true
   },
   "outputs": [
    {
     "name": "stdout",
     "output_type": "stream",
     "text": [
      "we\n",
      "are\n",
      "same\n"
     ]
    }
   ],
   "source": [
    "array_ex=[\"we\",\"are\",\"same\"]#python lists\n",
    "for m in array_ex:\n",
    "    print(m)"
   ]
  },
  {
   "cell_type": "code",
   "execution_count": 56,
   "id": "3d134c15",
   "metadata": {},
   "outputs": [
    {
     "name": "stdout",
     "output_type": "stream",
     "text": [
      "the car is hybrid\n",
      "the car is hybrid\n",
      "the car is 'hybrid'\n"
     ]
    }
   ],
   "source": [
    "### python formatted strings\n",
    "\n",
    "formatted_str='hybrid'\n",
    "print(f'the car is {formatted_str}')# string litarals OF F-STRING\n",
    "print('the car is {var}'.format(var=formatted_str))#.format method\n",
    "print(f'the car is {formatted_str !r}')#inside a single quotes\n"
   ]
  },
  {
   "cell_type": "markdown",
   "id": "0e207d8d",
   "metadata": {},
   "source": [
    "## width \n",
    "\n",
    "- width {list[m]:{10}}<=====10 width\n",
    "- alignment(can ' ' instead of'.') \n",
    "    - left:.<\n",
    "    - right:.>\n",
    "    - center :.^"
   ]
  },
  {
   "cell_type": "code",
   "execution_count": 57,
   "id": "866e5978",
   "metadata": {},
   "outputs": [],
   "source": [
    "movies=[('Name','Catogory','Country'),('Twilight','Romance','us'),('HP','Fantacy','uk'),('FF','Adventure','us')]"
   ]
  },
  {
   "cell_type": "code",
   "execution_count": 70,
   "id": "4f31ade5",
   "metadata": {},
   "outputs": [
    {
     "name": "stdout",
     "output_type": "stream",
     "text": [
      "Name       ................................Catogory Country...\n",
      "Twilight   .................................Romance us........\n",
      "HP         .................................Fantacy uk........\n",
      "FF         ...............................Adventure us........\n"
     ]
    }
   ],
   "source": [
    "#iterating indexes\n",
    "for mv in movies:\n",
    "    print(f'{mv[0]:.^{10}} {mv[1]:.>{40}} {mv[2]:.<{10}}')#set minimum width after \":{width}\" mark\n",
    "    \n",
    "    \n",
    "    \n",
    "    "
   ]
  },
  {
   "cell_type": "markdown",
   "id": "49ab20a3",
   "metadata": {},
   "source": [
    "## date and time (using string litarals)"
   ]
  },
  {
   "cell_type": "code",
   "execution_count": 75,
   "id": "5692746c",
   "metadata": {},
   "outputs": [
    {
     "name": "stdout",
     "output_type": "stream",
     "text": [
      "Requirement already satisfied: datetime in c:\\users\\admin\\anaconda3\\lib\\site-packages (5.1)\n",
      "Requirement already satisfied: zope.interface in c:\\users\\admin\\anaconda3\\lib\\site-packages (from datetime) (5.4.0)\n",
      "Requirement already satisfied: pytz in c:\\users\\admin\\anaconda3\\lib\\site-packages (from datetime) (2022.1)\n",
      "Requirement already satisfied: setuptools in c:\\users\\admin\\anaconda3\\lib\\site-packages (from zope.interface->datetime) (63.4.1)\n"
     ]
    }
   ],
   "source": [
    "!pip install datetime\n"
   ]
  },
  {
   "cell_type": "code",
   "execution_count": 86,
   "id": "02ce76be",
   "metadata": {},
   "outputs": [],
   "source": [
    "from datetime import datetime\n",
    "year=2023\n",
    "month=4\n",
    "day=12\n",
    "day = datetime(year=2023, month=4, day=12)\n",
    "# day = datetime(year, month, day)\n"
   ]
  },
  {
   "cell_type": "code",
   "execution_count": 81,
   "id": "af1f46f1",
   "metadata": {},
   "outputs": [
    {
     "name": "stdout",
     "output_type": "stream",
     "text": [
      " April 12 23\n"
     ]
    }
   ],
   "source": [
    "print(f'{day: %B %d %y}')"
   ]
  },
  {
   "cell_type": "code",
   "execution_count": null,
   "id": "f8393f34",
   "metadata": {},
   "outputs": [],
   "source": []
  }
 ],
 "metadata": {
  "kernelspec": {
   "display_name": "Python 3 (ipykernel)",
   "language": "python",
   "name": "python3"
  },
  "language_info": {
   "codemirror_mode": {
    "name": "ipython",
    "version": 3
   },
   "file_extension": ".py",
   "mimetype": "text/x-python",
   "name": "python",
   "nbconvert_exporter": "python",
   "pygments_lexer": "ipython3",
   "version": "3.9.13"
  }
 },
 "nbformat": 4,
 "nbformat_minor": 5
}
